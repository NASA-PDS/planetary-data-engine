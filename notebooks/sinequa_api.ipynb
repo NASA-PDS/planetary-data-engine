{
 "cells": [
  {
   "cell_type": "markdown",
   "id": "92eadb03",
   "metadata": {},
   "source": [
    "# Settings for Sinequa Server to Query"
   ]
  },
  {
   "cell_type": "code",
   "execution_count": 7,
   "id": "c80141f4",
   "metadata": {},
   "outputs": [
    {
     "name": "stdout",
     "output_type": "stream",
     "text": [
      "Configured:\n",
      "query endpoint: http://ec2-54-156-88-118.compute-1.amazonaws.com/api/v1/search.query\n",
      "app: nasa-sba-smd\n",
      "query app: query-smd-primary\n"
     ]
    }
   ],
   "source": [
    "import requests\n",
    "import os\n",
    "import json\n",
    "from urllib.parse import urljoin\n",
    "from pprint import pprint\n",
    "USER = os.getenv('SINEQUA_USER')\n",
    "PASS = os.getenv('SINEQUA_PASS')\n",
    "ROOT_URL = os.getenv('SINEQUA_ROOT_URL')\n",
    "APP = os.getenv('SINEQUA_APP')\n",
    "QAPP = os.getenv('SINEQUA_QUERY_APP')\n",
    "QENDPT = os.getenv('SINEQUA_ENDPOINT_QUERY')\n",
    "query_url = urljoin(ROOT_URL, QENDPT)\n",
    "print(\"Configured:\")\n",
    "print(\"query endpoint: {}\".format(query_url))\n",
    "print(\"app: {}\".format(APP))\n",
    "print (\"query app: {}\".format(QAPP))"
   ]
  },
  {
   "cell_type": "markdown",
   "id": "a50d30bd",
   "metadata": {},
   "source": [
    "# Search Query Setup"
   ]
  },
  {
   "cell_type": "code",
   "execution_count": 5,
   "id": "86d63ba3",
   "metadata": {},
   "outputs": [
    {
     "name": "stdout",
     "output_type": "stream",
     "text": [
      "Set up keyword search for \"osiris\".\n"
     ]
    }
   ],
   "source": [
    "query = 'osiris'\n",
    "print(\"Set up keyword search for \\\"{}\\\".\".format(query))"
   ]
  },
  {
   "cell_type": "markdown",
   "id": "76b21697",
   "metadata": {},
   "source": [
    "# Basic Keyword Search"
   ]
  },
  {
   "cell_type": "code",
   "execution_count": 4,
   "id": "543b170e",
   "metadata": {
    "scrolled": false
   },
   "outputs": [
    {
     "name": "stdout",
     "output_type": "stream",
     "text": [
      "Response has 10 records\n",
      "First record:\n",
      "{'collection': ['/SMD_Planetary/PDS_API_Dataset_Only/'],\n",
      " 'databasealias': 'NASA_PDS',\n",
      " 'docformat': 'htm',\n",
      " 'documentweight': 'default',\n",
      " 'extracts': [{'highlighted': 'ROSETTA {b}OSIRIS{nb} SHAPE MODELS OF COMET '\n",
      "                              '67P/C-G '\n",
      "                              'urn:nasa:pds:context_pds3:data_set:data_set.ro-c-osinac-osiwac-5-67p-shape-v1.',\n",
      "               'locations': '0,123',\n",
      "               'originalLocations': '1170,459',\n",
      "               'score': '49152'},\n",
      "              {'highlighted': '0 {b}OSIRIS{nb} - WIDE ANGLE CAMERA ',\n",
      "               'locations': '696,29',\n",
      "               'originalLocations': '4288,133',\n",
      "               'score': '49152'},\n",
      "              {'highlighted': '{b}OSIRIS{nb} - NARROW ANGLE CAMERA Not '\n",
      "                              'Provided INTERNATIONAL ROSETTA MISSION Not '\n",
      "                              'Provided 2015-01-11T23:20:32Z 2015-01-08 '\n",
      "                              'A.C.Raugh Creation Product_Data_Set_PDS3 Not '\n",
      "                              'Provided Not Provided Not Provided Not Provided '\n",
      "                              'PDS3 Not Provided Not Provided Not Provided Not '\n",
      "                              'Provided Product_Data_Set_PDS3 '\n",
      "                              '/ds-view/pds/viewDataset.jsp?',\n",
      "               'locations': '725,318',\n",
      "               'originalLocations': '4421,2326',\n",
      "               'score': '49152'},\n",
      "              {'highlighted': '547Z ROSETTA {b}OSIRIS{nb} SHAPE MODELS OF '\n",
      "                              'COMET 67P/C-G Collected shape models of Comet '\n",
      "                              '67P/Churyumov-Gerasimenko (1969 R1) produced by '\n",
      "                              'the Rosetta mission.',\n",
      "               'locations': '1399,150',\n",
      "               'originalLocations': '7844,370',\n",
      "               'score': '49152'}],\n",
      " 'fileext': 'htm',\n",
      " 'filename': 'file.htm',\n",
      " 'flags': ['h', 't'],\n",
      " 'globalrelevance': 0.872253,\n",
      " 'id': '/SMD_Planetary/PDS_API_Dataset_Only/|3eb171af83ab9a31499d23e35eb01009',\n",
      " 'indexationtime': '2023-06-29 19:07:37',\n",
      " 'language': ['en'],\n",
      " 'matchingpartnames': ['text'],\n",
      " 'matchlocationsperpartname': [{'matchlocations': []}],\n",
      " 'meaningrelevance': '1',\n",
      " 'person': [{'count': 2,\n",
      "             'display': 'Rosetta Osiris Shape',\n",
      "             'value': 'ROSETTA OSIRIS SHAPE'},\n",
      "            {'count': 1,\n",
      "             'display': 'Claire Capanna',\n",
      "             'value': 'CLAIRE CAPANNA'},\n",
      "            {'count': 1,\n",
      "             'display': 'Frank Preusker',\n",
      "             'value': 'FRANK PREUSKER'},\n",
      "            {'count': 1,\n",
      "             'display': 'Frank Scholten',\n",
      "             'value': 'FRANK SCHOLTEN'},\n",
      "            {'count': 1,\n",
      "             'display': 'Pedro Gutierrez',\n",
      "             'value': 'PEDRO GUTIERREZ'},\n",
      "            {'count': 1,\n",
      "             'display': 'Robert Gaskell',\n",
      "             'value': 'ROBERT GASKELL'},\n",
      "            {'count': 1,\n",
      "             'display': 'Rosetta Mission',\n",
      "             'value': 'ROSETTA MISSION'}],\n",
      " 'rank': 0,\n",
      " 'relevantExtracts': 'ROSETTA <b>OSIRIS </b>SHAPE MODELS OF ... 67P/C-G '\n",
      "                     'urn:nasa:pds:context_pds3:data_set:data_set.ro-c-osinac-osiwac-5-67p-shape-v1.... '\n",
      "                     '0 <b>OSIRIS </b>- WIDE ... ... <b>OSIRIS </b>- NARROW '\n",
      "                     'ANGLE ... /ds-view/pds/viewDataset.jsp?... 547Z ROSETTA '\n",
      "                     '<b>OSIRIS </b>SHAPE MODELS OF ... mission.',\n",
      " 'size': 8419,\n",
      " 'sourcestr56': 'Data',\n",
      " 'termspresence': [{'presence': 'found', 'term': 'osiris'}],\n",
      " 'thumbnailUrl': '/xdownload/thumbnail/%257B%2522app%2522%253A%2522nasa-sba-smd%2522%252C%2522id%2522%253A%2522%255C%252FSMD_Planetary%255C%252FPDS_API_Dataset_Only%255C%252F%257C3eb171af83ab9a31499d23e35eb01009%2522%257D/file.jpg',\n",
      " 'title': 'ROSETTA OSIRIS SHAPE MODELS OF COMET 67P/C-G '\n",
      "          'urn:nasa:pds:context_pds3:data_set:data_set.ro-c-osinac-osiwac-5-67p-shape-v1.0 '\n",
      "          'Pro...',\n",
      " 'treepath': ['/Planetary Science/Data/Planetary Science Data (PDS)/'],\n",
      " 'version': '1fdc791afa9b1e41b61b8a43f6255ee8',\n",
      " 'wordcountrelevance': '1',\n",
      " 'wordproximityrelevance': '1',\n",
      " 'wordscorerelevance': '0.634766',\n",
      " 'wordsrelevance': '0.87207'}\n"
     ]
    }
   ],
   "source": [
    "payload = {\n",
    "    \"user\": USER, # replace with your username\n",
    "    \"password\": PASS, # replace with your password\n",
    "    \"app\": APP, # replace with your app name\n",
    "    \"query\": {\n",
    "        \"name\": QAPP, # replace with your query app name\n",
    "        \"text\": query, # replace with your query\n",
    "    },\n",
    "}\n",
    "headers = {\n",
    "  'Content-Type': 'text/plain'\n",
    "}\n",
    "resp = requests.post(\n",
    "  query_url, # replace with your SDE instance API URL\n",
    "  data=json.dumps(payload), \n",
    "  headers=headers\n",
    ")\n",
    "#pprint(resp.json())\n",
    "records = resp.json()['records']\n",
    "print(\"Response has {} records\".format(len(records)))\n",
    "print(\"First record:\")\n",
    "pprint(records[0])"
   ]
  }
 ],
 "metadata": {
  "kernelspec": {
   "display_name": "Python 3 (ipykernel)",
   "language": "python",
   "name": "python3"
  },
  "language_info": {
   "codemirror_mode": {
    "name": "ipython",
    "version": 3
   },
   "file_extension": ".py",
   "mimetype": "text/x-python",
   "name": "python",
   "nbconvert_exporter": "python",
   "pygments_lexer": "ipython3",
   "version": "3.10.9"
  },
  "vscode": {
   "interpreter": {
    "hash": "1de8f7bc4166d82d5c14c41eb7b751403500d25161deeb77cafad75dc0334dd9"
   }
  }
 },
 "nbformat": 4,
 "nbformat_minor": 5
}
